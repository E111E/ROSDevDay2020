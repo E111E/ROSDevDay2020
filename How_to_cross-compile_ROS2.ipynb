{
 "cells": [
  {
   "cell_type": "markdown",
   "metadata": {},
   "source": [
    "![](images/logos/rosdevday.jpg)"
   ]
  },
  {
   "cell_type": "markdown",
   "metadata": {},
   "source": [
    "# How to cross-compile ROS2 distro by taken VxWorks RTOS as an example"
   ]
  },
  {
   "cell_type": "markdown",
   "metadata": {},
   "source": [
    "Even Open Robotics provides pre-built ROS 2 packages for multiple platforms, very often target software and hardware differ from the default one and a cross-compilation becomes a mandatory step:\n",
    "* A different from Linux operating system e.g. VxWorks, QNX, eSol, etc. is deployed on the target hardware\n",
    "* Target hardware (e.g. ARM aarch64) is different from the development host (e.g. Intel x86_64).\n",
    "* Tuning target software for the footprint and performance (e.g. setting -mcpu=cortex-a72 -mfpu=neon-fp-armv8 when building for Raspberry Pi4).\n",
    "* Separating ROS2 host tools (e.g. RViz) from the ROS2 target binaries.\n",
    "\n",
    "This session will explain in detail of why cross-compilation is needed, and how to cross-compile ROS2 distro by taken VxWorks RTOS as an example. Step by step instructions will be given of how to setup a cross-compile development environment, to build and to deploy ROS2 binaries on the target. As a target QEMU Intel will be used on the Desktop PC."
   ]
  },
  {
   "cell_type": "markdown",
   "metadata": {},
   "source": [
    "## WHO AM I"
   ]
  },
  {
   "cell_type": "markdown",
   "metadata": {},
   "source": [
    "<img align=\"left\" src=\"images/headshot.jpg\" width=\"200\">\n",
    "<center><strong>Andrei Kholodnyi</strong> | <strong>Principal Technologist</strong> | <strong>Technology Office</strong> | <strong>Wind River Systems</strong></center>\n",
    "\n",
    "### <center>Focus </center>\n",
    "\n",
    "<center> *  ROS2 Mobile Robotics, Dependability</center>\n",
    "<center> *  Industrial, TSN, intelligent edge</center>\n",
    "<center> *  ROS2 Open Source Community (real-time WG co-chair)</center>\n",
    "<center> *  Products, Solutions; Partnerships & University Programs</center>"
   ]
  },
  {
   "cell_type": "markdown",
   "metadata": {},
   "source": [
    "## Wind River software runs all these robots"
   ]
  },
  {
   "cell_type": "markdown",
   "metadata": {},
   "source": [
    "![Wind River Software runs inside these robots](images/robots.jpg)"
   ]
  },
  {
   "cell_type": "markdown",
   "metadata": {},
   "source": [
    "## What is VxWorks RTOS"
   ]
  },
  {
   "cell_type": "markdown",
   "metadata": {},
   "source": [
    "<img align=\"left\" src=\"images/vxworks.jpg\" width=\"400\">\n",
    "\n",
    "<font size=\"5\"> *  32/64 bits on ARM, Intel, MIPS, PowerPC, RISC-V</font>\n",
    "\n",
    "<font size=\"5\"> *  Proprietary real-time OS, POSIX PSE52</font>\n",
    "\n",
    "<font size=\"5\"> *  Kernel/user space separation, user space optional</font>\n",
    "\n",
    "<font size=\"5\"> *  C/C++11/14, possible to develop kernel C++ modules and user apps</font>\n",
    "    \n",
    "<font size=\"5\"> *  Safety certifiable: DO-178, ISO 26262, IEC 61508</font>\n",
    "\n",
    "<font size=\"5\"> *  Toolchain LLVM 8, Dinkumware C/C++ libs</font>\n",
    "\n",
    "<font size=\"5\"> *  Proprietary build system</font>\n",
    "\n",
    "<font size=\"5\"> *  Kernel shell</font>\n",
    "\n",
    "<font size=\"5\"> *  Eclipse-based IDE, Windows/Linux hosts</font>"
   ]
  },
  {
   "cell_type": "markdown",
   "metadata": {},
   "source": [
    "## What is a native compilation?\n",
    "\n",
    "Let us look at this example of the compilation on the Intel PC running Linux Ubuntu. All artifacts (binaries, libs..) produced during a ROS2 build are supposed to run on the same platform.\n",
    "The same can be done on RaspberryPi4 as well even it has a different hardware architecture."
   ]
  },
  {
   "cell_type": "markdown",
   "metadata": {},
   "source": [
    "![](images/native-compilation.jpg)"
   ]
  },
  {
   "cell_type": "markdown",
   "metadata": {},
   "source": [
    "## What is a cross compilation?\n",
    "\n",
    "What happens if we would substitute a desktop PC with an embedded target even with the same HW architecture (Intel x86_64) and would run a different OS, e.g. VxWorks RTOS.\n",
    "As we can see many emebedded RTOS does not have a native development environment. They use host/target paradigm where a development happens on the host computer running Desktop OS e.g. Windows or Linux. And the development artifacts are deployed to the target.\n",
    "\n",
    "Cross-compilation is a process of creating executable artifacts for a platform other than the one on which the cross-compilation toolchain is running. A cross-compilation toolchain is a set of chained tools used for this process "
   ]
  },
  {
   "cell_type": "markdown",
   "metadata": {},
   "source": [
    "![](images/cross-compilation.jpg)"
   ]
  },
  {
   "cell_type": "markdown",
   "metadata": {},
   "source": [
    "## Why to cross compile"
   ]
  },
  {
   "cell_type": "markdown",
   "metadata": {},
   "source": [
    " * Different HW arch on the target: Intel, ARM, PowerPC, RISC-V, MIPS, SPARC\n",
    " * Different Operating systems on the target: VxWorks, QNX, eSol, FreeRTOS, Zephyr\n",
    "   * it is not possible to compile natively due to missing development tools on the target platform\n",
    "   * User space incompatibility between host OS and target OS platforms even with the same CPU instruction set\n",
    " * Tuning your target system for performance, footprint etc."
   ]
  },
  {
   "cell_type": "markdown",
   "metadata": {},
   "source": [
    "## How to cross compile"
   ]
  },
  {
   "cell_type": "markdown",
   "metadata": {},
   "source": [
    " It is very similar to the native compilation. For that you need:\n",
    " \n",
    " * Cross-compile toolchain (OS and hardware arch specific)\n",
    "   * How to create a toolchain https://wiki.osdev.org/OS_Specific_Toolchain\n",
    "   * Prebuilt ARM toolchain: ```sudo apt install gcc-arm-linux-gnueabihf```\n",
    " * Emulator – QEMU to run cross-compiled binaries\n",
    "   * ```sudo apt install qemu```\n",
    " * Where to get cross-compiler tools?\n",
    "   * Ubuntu repos\n",
    "   * Directly by the vendors (depending on OS and HW Ach)\n",
    "   * VxWorks SDK https://labs.windriver.com/downloads/wrsdk.html\n",
    "\n",
    "I'll take **VxWorks SDK for IA - QEMU (x86-64)** as an example of cross-compilation toolchain"
   ]
  },
  {
   "cell_type": "markdown",
   "metadata": {},
   "source": [
    "## A native compilation – Hello, OS and hardware arch\n",
    "\n",
    "Let us try first to compile a \"Hello, OS and machine\" code sample"
   ]
  },
  {
   "cell_type": "markdown",
   "metadata": {},
   "source": [
    "```bash\n",
    "$ cd examples\n",
    "$ cat hello.c\n",
    "```"
   ]
  },
  {
   "cell_type": "markdown",
   "metadata": {},
   "source": [
    "```c\n",
    "#include <stdio.h>\n",
    "#include <sys/utsname.h>\n",
    "\n",
    "\n",
    "int main() {\n",
    "    struct utsname data;\n",
    "    \n",
    "    /* get name and information about current kernel */\n",
    "    /* sysname[]; - Operating system name (e.g., \"Linux\") */\n",
    "    /* machine[]; - Hardware identifier */\n",
    "    uname(&data);\n",
    "    printf(\"Hello, %s %s\\n\", data.sysname, data.machine);\n",
    "    return 0;\n",
    "}\n",
    "```"
   ]
  },
  {
   "cell_type": "markdown",
   "metadata": {},
   "source": [
    "To do so we'll use gcc which is located"
   ]
  },
  {
   "cell_type": "markdown",
   "metadata": {},
   "source": [
    "```bash\n",
    "$ which gcc\n",
    "/usr/bin/gcc\n",
    "```"
   ]
  },
  {
   "cell_type": "markdown",
   "metadata": {},
   "source": [
    "How do we know what binaries it will produce? Let us print multiarch"
   ]
  },
  {
   "cell_type": "markdown",
   "metadata": {},
   "source": [
    "```bash\n",
    "$ gcc -print-multiarch\n",
    "x86_64-linux-gnu\n",
    "```"
   ]
  },
  {
   "cell_type": "markdown",
   "metadata": {},
   "source": [
    "x86_64-linux-gnu - this version of gcc produces binaries for x86_64 Linux. You can look here https://wiki.debian.org/Multiarch/Tuples for other versions"
   ]
  },
  {
   "cell_type": "markdown",
   "metadata": {},
   "source": [
    "```bash\n",
    "$ gcc -Wall hello.c -o hello -static\n",
    "$ ./hello\n",
    "Hello, Linux x86_64\n",
    "```"
   ]
  },
  {
   "cell_type": "markdown",
   "metadata": {},
   "source": [
    "Let us also look what binary format was produces, it is the same as was stated by the gcc compiler"
   ]
  },
  {
   "cell_type": "markdown",
   "metadata": {},
   "source": [
    "```bash\n",
    "$ file hello\n",
    "hello: ELF 64-bit LSB executable, x86-64, version 1 (GNU/Linux), statically linked, BuildID[sha1]=e46d14d01d5ce7f9de399925757dc31afa564e58, for GNU/Linux 3.2.0, not stripped\n",
    "```"
   ]
  },
  {
   "cell_type": "markdown",
   "metadata": {},
   "source": [
    "VxWorks SDK including cross-compiler is installed under ```$HOME/wrsdk-vxworks7-qemu```"
   ]
  },
  {
   "cell_type": "markdown",
   "metadata": {},
   "source": [
    "We first need to setup a cross-compilation environment. Since we didn't install VxWorks SDK into the / folder we need to setup some environment variables."
   ]
  },
  {
   "cell_type": "markdown",
   "metadata": {},
   "source": [
    "## A cross compilation – Hello, OS and HW Arch\n",
    "\n",
    "Now we do the same but with the cross-toolchain"
   ]
  },
  {
   "cell_type": "markdown",
   "metadata": {},
   "source": [
    "```bash\n",
    "$ source $HOME/wrsdk-vxworks7-qemu/toolkit/wind_sdk_env.linux\n",
    "```"
   ]
  },
  {
   "cell_type": "markdown",
   "metadata": {},
   "source": [
    "Let us see what we set. "
   ]
  },
  {
   "cell_type": "markdown",
   "metadata": {},
   "source": [
    "```bash\n",
    "$ env | grep wr\n",
    "CC=wr-cc\n",
    "LD_LIBRARY_PATH=/home/user/wrsdk-vxworks7-qemu/toolkit/host_tools/x86_64-linux/lib:/home/user/wrsdk-vxworks7-qemu/toolkit/host_tools/x86-linux2/lib:/home/user/wrsdk-vxworks7-qemu/toolkit/wrdbg_tools/lib:/home/user/wrsdk-vxworks7-qemu/toolkit/license/lmapi-5/x86-linux2/lib:\n",
    "WIND_SDK_COMPILER_PATH=/home/user/wrsdk-vxworks7-qemu/toolkit/compilers/llvm-9.0.1.1/LINUX64/bin\n",
    "WIND_CC_SYSROOT=/home/user/wrsdk-vxworks7-qemu/toolkit/include\n",
    "PATH=/home/user/wrsdk-vxworks7-qemu/toolkit/bin:/home/user/wrsdk-vxworks7-qemu/toolkit/host_tools/x86_64-linux/bin:/home/user/wrsdk-vxworks7-qemu/toolkit/host_tools/x86-linux2/bin:/home/akholodn/Downloads/wrsdk-vxworks7-qemu/toolkit/wrdbg_tools/bin:/home/user/wrsdk-vxworks7-qemu/toolkit/sdk_tools/qemu:/home/user/wrsdk-vxworks7-qemu/toolkit/compilers/llvm-9.0.1.1/LINUX64/bin::/home/user/.local/bin:/usr/local/sbin:/usr/local/bin:/usr/sbin:/usr/bin:/sbin:/bin:/usr/games:/usr/local/games:/snap/bin\n",
    "```"
   ]
  },
  {
   "cell_type": "markdown",
   "metadata": {},
   "source": [
    "We'll compile now the same example with a cross-compiler which is define by ```$CC``` variable, let us check where it is located"
   ]
  },
  {
   "cell_type": "markdown",
   "metadata": {},
   "source": [
    "```bash\n",
    "$ which $CC\n",
    "/home/user/wrsdk-vxworks7-qemu/toolkit/host_tools/x86_64-linux/bin/wr-cc\n",
    "```"
   ]
  },
  {
   "cell_type": "markdown",
   "metadata": {},
   "source": [
    "and what binaries it will produce"
   ]
  },
  {
   "cell_type": "markdown",
   "metadata": {},
   "source": [
    "```bash\n",
    "$ $CC -print-target-triple -c dummy.c\n",
    "x86_64\n",
    "```"
   ]
  },
  {
   "cell_type": "markdown",
   "metadata": {},
   "source": [
    "Well, we see that it will produce x86_64 binaries but what about the OS type? Why it does not print VxWorks as an OS?"
   ]
  },
  {
   "cell_type": "markdown",
   "metadata": {},
   "source": [
    "There are just few OS ABIs defined by ELF format, see e.g. https://refspecs.linuxfoundation.org/elf/gabi4+/ch4.eheader.html\n",
    "\n",
    "```bash\n",
    "Name\t          Value\tMeaning\n",
    "ELFOSABI_NONE        0\tNo extensions or unspecified\n",
    "ELFOSABI_HPUX        1\tHewlett-Packard HP-UX\n",
    "ELFOSABI_NETBSD      2\tNetBSD\n",
    "ELFOSABI_LINUX       3\tLinux\n",
    "ELFOSABI_SOLARIS     6\tSun Solaris\n",
    "ELFOSABI_AIX         7\tAIX\n",
    "ELFOSABI_IRIX        8\tIRIX\n",
    "ELFOSABI_FREEBSD     9\tFreeBSD\n",
    "ELFOSABI_TRU64      10\tCompaq TRU64 UNIX\n",
    "ELFOSABI_MODESTO    11\tNovell Modesto\n",
    "ELFOSABI_OPENBSD    12\tOpen BSD\n",
    "ELFOSABI_OPENVMS    13\tOpen VMS\n",
    "ELFOSABI_NSK        14\tHewlett-Packard Non-Stop Kernel\n",
    " \t            64-255\tArchitecture-specific value range\n",
    "```"
   ]
  },
  {
   "cell_type": "markdown",
   "metadata": {},
   "source": [
    "```bash\n",
    "$ $CC -Wall hello.c -o hello -static\n",
    "$ ./hello\n",
    "Segmentation fault (core dumped)\n",
    "```"
   ]
  },
  {
   "cell_type": "markdown",
   "metadata": {},
   "source": [
    "we have built it, run it, and it produced a core dump, even it is the same HW architecture. Why is that? Let us look what binaries it has produced"
   ]
  },
  {
   "cell_type": "markdown",
   "metadata": {},
   "source": [
    "```bash\n",
    "$ file hello\n",
    "hello: ELF 64-bit LSB executable, x86-64, version 1 (SYSV), statically linked, with debug_info, not stripped\n",
    "```"
   ]
  },
  {
   "cell_type": "markdown",
   "metadata": {},
   "source": [
    "**SYSV** - means ELFOSABI_NONE (No extensions or unspecified). How can we figure out that it a cross-compiled VxWorks binary? We can try to search for the Wind River specific symbols. This is the only way :("
   ]
  },
  {
   "cell_type": "markdown",
   "metadata": {},
   "source": [
    "```bash\n",
    "$ wr-nm hello | grep wrs\n",
    "0000000000233288 r __wrs_eh_frame_end\n",
    "000000000022c370 r __wrs_eh_frame_hdr_end\n",
    "```"
   ]
  },
  {
   "cell_type": "markdown",
   "metadata": {},
   "source": [
    "Where can we run it? One possibility is to run it on the target hardware. Or we can run it on our development PC but we need a QEMU for it, because we need to run it To be able to do so, we need to run VxWorks kernel first, likely we have a QEMU for it.\n",
    "* -kernel $WIND_SDK_TOOLKIT/../bsps/itl_generic_2_0_2_1/boot/vxWorks\n",
    "\n",
    "and we mount our current directory as a USB device, so simplicity we skip step to create a target filesystem\n",
    "* -usb -device usb-ehci,id=ehci  -device usb-storage,drive=fat32 -drive file=fat:ro:./,id=fat32,format=raw,if=none"
   ]
  },
  {
   "cell_type": "markdown",
   "metadata": {},
   "source": [
    "![](images/qemu.jpg)"
   ]
  },
  {
   "cell_type": "markdown",
   "metadata": {},
   "source": [
    "Run an x86_64 QEMU with VxWorks kernel and a kernel shell"
   ]
  },
  {
   "cell_type": "markdown",
   "metadata": {},
   "source": [
    "```bash\n",
    "$ qemu-system-x86_64 -m 512M  -kernel $WIND_SDK_TOOLKIT/../bsps/itl_generic_2_0_2_1/boot/vxWorks -net nic -display none -serial stdio -monitor none -append \"bootline:fs(0,0)host:vxWorks h=192.168.200.254 e=192.168.200.1 u=target pw=boot o=gei0\" -usb -device usb-ehci,id=ehci  -device usb-storage,drive=fat32 -drive file=fat:ro:./,id=fat32,format=raw,if=none\n",
    "```"
   ]
  },
  {
   "cell_type": "markdown",
   "metadata": {},
   "source": [
    "```bash\n",
    "Instantiating /ram0 as rawFs,  device = 0x1\n",
    "Target Name: vxTarget\n",
    "Instantiating /tmp as rawFs,  device = 0x10001\n",
    "\n",
    "\n",
    "              VxWorks 7 SMP 64-bit\n",
    "\n",
    "Copyright 1984-2020 Wind River Systems, Inc.\n",
    "\n",
    "     Core Kernel version: 3.1.2.1\n",
    "              Build date: Apr 21 2020 09:27:38\n",
    "                   Board: x86 Processor (ACPI_BOOT_OP) SMP/SMT\n",
    "               CPU Count: 1\n",
    "          OS Memory Size: ~446MB\n",
    "        ED&R Policy Mode: Deployed\n",
    "     Debug Agent: Started (always)\n",
    "\n",
    "Instantiating /ram as rawFs,  device = 0x20001\n",
    "Formatting /ram for DOSFS\n",
    "Instantiating /ram as rawFs, device = 0x20001\n",
    "Formatting...Retrieved old volume params with %38 confidence:\n",
    "Volume Parameters: FAT type: FAT32, sectors per cluster 0\n",
    "  0 FAT copies, 0 clusters, 0 sectors per FAT\n",
    "  Sectors reserved 0, hidden 0, FAT sectors 0\n",
    "  Root dir entries 0, sysId (null)  , serial number 100000\n",
    "  Label:\"           \" ...\n",
    "Disk with 64 sectors of 512 bytes will be formatted with:\n",
    "Volume Parameters: FAT type: FAT12, sectors per cluster 1\n",
    "  2 FAT copies, 54 clusters, 1 sectors per FAT\n",
    "  Sectors reserved 1, hidden 0, FAT sectors 2\n",
    "  Root dir entries 112, sysId VXDOS12 , serial number 100000\n",
    "  Label:\"           \" ...\n",
    "OK.\n",
    "\n",
    " Adding 14058 symbols for standalone.\n",
    "\n",
    "->\n",
    "```"
   ]
  },
  {
   "cell_type": "markdown",
   "metadata": {},
   "source": [
    "after VxWorks boots we start a 'bash' like VxWorks interpreter by typing ```cmd```"
   ]
  },
  {
   "cell_type": "markdown",
   "metadata": {},
   "source": [
    "```bash\n",
    "-> cmd\n",
    "[vxWorks *]#\n",
    "```"
   ]
  },
  {
   "cell_type": "markdown",
   "metadata": {},
   "source": [
    "Type ```devs``` to see where the USB is mounted, it is mounted to ```bd0a```"
   ]
  },
  {
   "cell_type": "markdown",
   "metadata": {},
   "source": [
    "```bash\n",
    "[vxWorks *]# devs\n",
    "drv refs name\n",
    "  1 [ 3] /\n",
    "  2 [ 3] /bd0:1  ==>  /bd0a\n",
    "  5 [ 3] /bd0a\n",
    "  2 [ 3] /bin  ==>  /romfs/sysroot/bin\n",
    "  2 [ 3] /boot  ==>  /romfs/sysroot/boot\n",
    "  2 [ 3] /dev  ==>  /\n",
    "  2 [ 3] /etc  ==>  /romfs/sysroot/etc\n",
    " 10 [ 3] /fifos\n",
    " 11 [ 3] /input/event\n",
    "  2 [ 3] /lib  ==>  /romfs/sysroot/lib\n",
    "  0 [ 3] /null\n",
    "  5 [ 3] /ram\n",
    "  6 [ 3] /ram0\n",
    " 13 [ 3] /random\n",
    "  9 [ 3] /romfs\n",
    "  6 [ 3] /tmp\n",
    "  3 [ 3] /ttyS0\n",
    "  2 [ 3] /tyCo/0  ==>  /ttyS0\n",
    " 13 [ 3] /urandom\n",
    "  2 [ 3] /usr  ==>  /romfs/sysroot/usr\n",
    " 12 [ 3] /zero\n",
    " 15 [ 3] host:\n",
    "```"
   ]
  },
  {
   "cell_type": "markdown",
   "metadata": {},
   "source": [
    "We do **cd /bd0a** and **ls** to see ```hello``` files"
   ]
  },
  {
   "cell_type": "markdown",
   "metadata": {},
   "source": [
    "```bash\n",
    "[vxWorks *]# cd /bd0a\n",
    "[vxWorks *]# ls\n",
    "hello.c\n",
    "hello\n",
    "```"
   ]
  },
  {
   "cell_type": "markdown",
   "metadata": {},
   "source": [
    "```bash\n",
    "[vxWorks *]# cat hello.c\n",
    "#include <stdio.h>\n",
    "#include <sys/utsname.h>\n",
    "\n",
    "int main() {\n",
    "        struct utsname data;\n",
    "\n",
    "        /* get name and information about current kernel */\n",
    "        /* sysname[]; - Operating system name (e.g., \"Linux\") */\n",
    "        /* machine[]; - Hardware identifier */\n",
    "\n",
    "        uname(&data);\n",
    "        printf(\"Hello, %s %s\\n\", data.sysname, data.machine);\n",
    "        return 0;\n",
    "}\n",
    "```"
   ]
  },
  {
   "cell_type": "markdown",
   "metadata": {},
   "source": [
    "And then we run **./hello** and see what it prints to the output"
   ]
  },
  {
   "cell_type": "markdown",
   "metadata": {},
   "source": [
    "```bash\n",
    "[vxWorks *]# ./hello\n",
    "Launching process './hello' ...\n",
    "Process './hello' (process Id = 0xffff8000005bde80) launched.\n",
    "Hello, VxWorks 7 x86 Processor (ACPI_BOOT_OP) SMP/SMT\n",
    "```"
   ]
  },
  {
   "cell_type": "markdown",
   "metadata": {},
   "source": [
    "It prints **VxWorks 7** as an OS name and **x86 Processor (ACPI_BOOT_OP) SMP/SMT** as a machine.\n",
    "\n",
    "We have cross-compiled VxWorks binary and executed it on the development host using QEMU as a target running VxWorks"
   ]
  },
  {
   "cell_type": "markdown",
   "metadata": {},
   "source": [
    "## What do we need to cross compile ROS2?\n",
    "\n",
    " *  ROS2 dashing sources - ```/home/user/vxworks7-ros2-build/build/ros2/ros_ws/src```\n",
    " *  VxWorks SDK - ```/home/user/wrsdk-vxworks7-qemu``` or https://labs.windriver.com/downloads/wrsdk.html\n",
    "    * Cross compilation toolchain\n",
    "    * toolchain.cmake and platform.cmake\n",
    "    * VxWorks kernel\n",
    "    * User space libraries and headers: libc, libc++, libcrypto etc.\n",
    " * VxWorks ROS2 build - ```/home/user/vxworks7-ros2-build``` or https://github.com/Wind-River/vxworks7-ros2-build\n",
    "    * ROS2 dependencies\n",
    "    * ROS2 dashing release\n",
    " * VxWorks ROS2 patches - https://github.com/Wind-River/vxworks7-layer-for-ros2\n",
    "    * VxWorks specific patches, e.g. missing functions\n",
    "    * ROS2 specific patches, e.g. https://github.com/ros2/rosidl_python/issues/111"
   ]
  },
  {
   "cell_type": "markdown",
   "metadata": {},
   "source": [
    "## ROS2 source code structure\n",
    "We don't need to cross-compile a complete ROS2 dashing release - https://raw.githubusercontent.com/ros2/ros2/dashing-release/ros2.repos\n",
    "\n",
    " *  **Target binaries**\n",
    "    * **rclcpp, rmw, dds**\n",
    " *  Tools\n",
    "    * ~ament, colcon, lint, cmake etc.~\n",
    " *  Visualization tools\n",
    "    * ~ros-visualization (rviz, rqt)~\n",
    "\n",
    "So, we'll strip down all other ROS2 parts except the code which needs to run on the target"
   ]
  },
  {
   "cell_type": "markdown",
   "metadata": {},
   "source": [
    "## Setup ROS2 for the cross-compilation\n",
    "\n",
    " 1.  Source a VxWorks cross-compilation environment\n",
    " 2.  Strip down the ROS2 build to the packages you need on the target\n",
    " 3.  Patch the ROS2 dashing release \n",
    " 4.  Cross-compile ROS2 dependencies (asio, tinyxml2, etc.)\n",
    " 5.  Cross-compile the ROS2 dashing release"
   ]
  },
  {
   "cell_type": "markdown",
   "metadata": {},
   "source": [
    "## toolchain.cmake and VxWorks.cmake\n",
    "What is different between a \"Hello, World\" example we did and the ROS2 cross-compilation? For the latter we need a toolchain.cmake and platform.cmake, both define a cross-compilation environment for CMake, see https://cmake.org/cmake/help/latest/manual/cmake-toolchains.7.html"
   ]
  },
  {
   "cell_type": "markdown",
   "metadata": {},
   "source": [
    "Let us look at toolchain cmake, it is called rtp.cmake"
   ]
  },
  {
   "cell_type": "markdown",
   "metadata": {},
   "source": [
    "```bash\n",
    "$ cd $HOME/vxworks7-ros2-build\n",
    "$ cat buildspecs/cmake/rtp.cmake\n",
    "...\n",
    "set(CMAKE_SYSTEM_NAME VxWorks)\n",
    "set(CMAKE_SYSTEM_VERSION 7)\n",
    "set(CMAKE_CROSSCOMPILING ON)\n",
    "```"
   ]
  },
  {
   "cell_type": "markdown",
   "metadata": {},
   "source": [
    "Toolchain CMake file defines VxWorks OS and sets cross-compilating"
   ]
  },
  {
   "cell_type": "markdown",
   "metadata": {},
   "source": [
    "```bash\n",
    "$ cat buildspecs/cmake/Platform/VxWorks.cmake\n",
    "...\n",
    "set(CMAKE_INCLUDE_PATH\n",
    "        /include\n",
    "        /include/usr/h/published/UTILS_UNIX\n",
    "        /include/usr/h/public)\n",
    "\n",
    "set(CMAKE_LIBRARY_PATH\n",
    "        /lib\n",
    "        /include/usr/lib/common)\n",
    "```"
   ]
  },
  {
   "cell_type": "code",
   "execution_count": null,
   "metadata": {},
   "outputs": [],
   "source": [
    "And the Platfrom cmake file sets various CMake variable specific to the particualr platform "
   ]
  },
  {
   "cell_type": "markdown",
   "metadata": {},
   "source": [
    "## Strip down ROS2 build to the packages we need"
   ]
  },
  {
   "cell_type": "markdown",
   "metadata": {},
   "source": [
    "We have ```touch COLCON_IGNORE``` to prevent these directories from being built, It is done before the build. As you can see "
   ]
  },
  {
   "cell_type": "markdown",
   "metadata": {},
   "source": [
    "```bash\n",
    "$ cat pkg/ros2/packages.mk\n",
    "...\n",
    "ROS_IGNORE_DIRS=ros-visualization \\\n",
    "                ros2/rviz \\\n",
    "                ros2/poco_vendor \\\n",
    "                osrf/osrf_testing_tools_cpp \\\n",
    "                ros-planning \\\n",
    "                ros2/rmw_connext \\\n",
    "                ros2/rosidl_typesupport_connext \\\n",
    "                ros2/rmw_opensplice \\\n",
    "                ros2/rosidl_typesupport_opensplice \\\n",
    "                ament/ament_lint \\\n",
    "                ament/uncrustify_vendor \\\n",
    "                ros2/rcl_logging/rcl_logging_log4cxx \\\n",
    "                eclipse-cyclonedds\n",
    "\n",
    "# Ignore Python-specific packages\n",
    "ROS_IGNORE_DIRS+= \\\n",
    "                ament/ament_cmake/ament_cmake_pytest \\\n",
    "                osrf/osrf_pycommon \\\n",
    "                ros2/demos/demo_nodes_py \\\n",
    "                ros2/geometry2/tf2_py \\\n",
    "                ros2/kdl_parser/kdl_parser_py \\\n",
    "                ros2/rclpy \\\n",
    "                ros2/rosidl_python/rosidl_generator_py \\\n",
    "                ros-visualization/rqt/rqt_gui_py\n",
    "```"
   ]
  },
  {
   "cell_type": "markdown",
   "metadata": {},
   "source": [
    "And not all ramaining ROS2 packages will be built but just a subset we need, ```--packages-up-to``` option will be used for it "
   ]
  },
  {
   "cell_type": "markdown",
   "metadata": {},
   "source": [
    "```bash\n",
    "ROS2_EXAMPLES=examples_rclcpp_minimal_action_client \\\n",
    "    examples_rclcpp_minimal_client \\\n",
    "    examples_rclcpp_minimal_publisher \\\n",
    "    examples_rclcpp_minimal_subscriber \\\n",
    "    examples_rclcpp_minimal_action_server \\\n",
    "    examples_rclcpp_minimal_composition \\\n",
    "    examples_rclcpp_minimal_service \\\n",
    "    examples_rclcpp_minimal_timer\n",
    "\n",
    "```"
   ]
  },
  {
   "cell_type": "markdown",
   "metadata": {},
   "source": [
    "## Cross compile ROS2"
   ]
  },
  {
   "cell_type": "markdown",
   "metadata": {},
   "source": [
    "To spare our time we'll not build the whole ROS2 dashing release, but just rebuild one of the ROS2 packages to see how the cross compilation works"
   ]
  },
  {
   "cell_type": "markdown",
   "metadata": {},
   "source": [
    "```bash\n",
    "$ cd $HOME/vxworks7-ros2-build/build/ros2/ros2_ws\n",
    "```"
   ]
  },
  {
   "cell_type": "markdown",
   "metadata": {},
   "source": [
    "There is no big difference between ROS2 native and cross compile. For the native we would run e.g."
   ]
  },
  {
   "cell_type": "markdown",
   "metadata": {},
   "source": [
    "```bash\n",
    "colcon build --symlink-install --cmake-force-configure --packages-select examples_rclcpp_minimal_timer \\\n",
    "                --cmake-args \\\n",
    "                -DCMAKE_BUILD_TYPE=Debug \\\n",
    "                -DCMAKE_VERBOSE_MAKEFILE:BOOL=ON \\\n",
    "                -DBUILD_TESTING:BOOL=OFF\n",
    "```"
   ]
  },
  {
   "cell_type": "markdown",
   "metadata": {},
   "source": [
    "And for the cross-compilation we just add\n",
    "```bash\n",
    "                -DCMAKE_PREFIX_PATH=$HOME/vxworks7-ros2-build/export/root \\\n",
    "                -DCMAKE_TOOLCHAIN_FILE=$HOME/vxworks7-ros2-build/buildspecs/cmake/rtp.cmake \\\n",
    "```\n",
    "-DCMAKE_PREFIX_PATH points to the directory where cmake will find ROS2 dependencies\n",
    "\n",
    "-DCMAKE_TOOLCHAIN_FILE points to the VxWorks CMake toolchain file"
   ]
  },
  {
   "cell_type": "markdown",
   "metadata": {},
   "source": [
    "```bash\n",
    "colcon build --symlink-install --cmake-force-configure --packages-select examples_rclcpp_minimal_timer \\\n",
    "                --cmake-args \\\n",
    "                -DCMAKE_BUILD_TYPE=Debug \\\n",
    "                -DCMAKE_VERBOSE_MAKEFILE:BOOL=ON \\\n",
    "                -DCMAKE_PREFIX_PATH=$HOME/vxworks7-ros2-build/export/root \\\n",
    "                -DCMAKE_TOOLCHAIN_FILE=$HOME/vxworks7-ros2-build/buildspecs/cmake/rtp.cmake \\\n",
    "                -DBUILD_TESTING:BOOL=OFF\n",
    "```"
   ]
  },
  {
   "cell_type": "markdown",
   "metadata": {},
   "source": [
    "```bash\n",
    "Starting >>> examples_rclcpp_minimal_timer\n",
    "Finished <<< examples_rclcpp_minimal_timer [3.91s]\n",
    "\n",
    "Summary: 1 package finished [4.51s]\n",
    "```"
   ]
  },
  {
   "cell_type": "markdown",
   "metadata": {},
   "source": [
    "## Run ROS2 example on VxWorks using QEMU"
   ]
  },
  {
   "cell_type": "markdown",
   "metadata": {},
   "source": [
    "Our ROS2 target bianries are located under ```$HOME/vxworks7-ros2-build/export/root/llvm/bin```. Let us run one ROS2 example."
   ]
  },
  {
   "cell_type": "markdown",
   "metadata": {},
   "source": [
    "```bash\n",
    "$ cd $HOME/vxworks7-ros2-build/build/ros2/ros2_ws\n",
    "```"
   ]
  },
  {
   "cell_type": "markdown",
   "metadata": {},
   "source": [
    "```bash\n",
    "$ qemu-system-x86_64 -m 512M  -kernel $WIND_SDK_TOOLKIT/../bsps/itl_generic_2_0_2_1/boot/vxWorks -net nic -display none -serial stdio -monitor none -append \"bootline:fs(0,0)host:vxWorks h=192.168.200.254 e=192.168.200.1 u=target pw=boot o=gei0\" -usb -device usb-ehci,id=ehci  -device usb-storage,drive=fat32 -drive file=fat:ro:./export/root,id=fat32,format=raw,if=none\n",
    "```"
   ]
  },
  {
   "cell_type": "markdown",
   "metadata": {},
   "source": [
    "VxWorks boots again, type ```cmd``` to enter an interpreter"
   ]
  },
  {
   "cell_type": "markdown",
   "metadata": {},
   "source": [
    "```bash\n",
    "-> cmd\n",
    "[vxWorks *]#\n",
    "```"
   ]
  },
  {
   "cell_type": "markdown",
   "metadata": {},
   "source": [
    "```bash\n",
    "[vxWorks *]# set env LD_LIBRARY_PATH=\"/bd0a/lib\"\n",
    "\n",
    "[vxWorks *]# cd  /bd0a/llvm/bin/\n",
    "\n",
    "[vxWorks *]# rtp exec -u 0x20000 timer_lambda.vxe\n",
    "Launching process 'timer_lambda.vxe' ...\n",
    "Process 'timer_lambda.vxe' (process Id = 0xffff80000046f070) launched.\n",
    "[INFO] [minimal_timer]: Hello, world!\n",
    "[INFO] [minimal_timer]: Hello, world!\n",
    "[INFO] [minimal_timer]: Hello, world!\n",
    "[INFO] [minimal_timer]: Hello, world!\n",
    "```"
   ]
  },
  {
   "cell_type": "markdown",
   "metadata": {},
   "source": [
    "## Conclusion"
   ]
  },
  {
   "cell_type": "markdown",
   "metadata": {},
   "source": [
    " * We have seen how easy to cross-compile ROS2 for the non-Linux POSIX OS – VxWorks in this case\n",
    " * We have learned what are the differences between native and cross-compilation\n",
    " * We have prepared and setup a cross development environment and built ROS2 binaries\n",
    " * We have learned how to split ROS2 packages in host and target parts\n",
    " * We have used QEMU to run cross-compiled binaries on the development host\n"
   ]
  }
 ],
 "metadata": {
  "celltoolbar": "Raw Cell Format",
  "kernelspec": {
   "display_name": "Python 3",
   "language": "python",
   "name": "python3"
  },
  "language_info": {
   "codemirror_mode": {
    "name": "ipython",
    "version": 3
   },
   "file_extension": ".py",
   "mimetype": "text/x-python",
   "name": "python",
   "nbconvert_exporter": "python",
   "pygments_lexer": "ipython3",
   "version": "3.8.3"
  }
 },
 "nbformat": 4,
 "nbformat_minor": 1
}
