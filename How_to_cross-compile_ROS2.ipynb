{
 "cells": [
  {
   "cell_type": "markdown",
   "metadata": {},
   "source": [
    "![](images/logos/rosdevday.jpg)"
   ]
  },
  {
   "cell_type": "markdown",
   "metadata": {},
   "source": [
    "# How to cross-compile ROS2 distro by taken VxWorks RTOS as an example"
   ]
  },
  {
   "cell_type": "markdown",
   "metadata": {},
   "source": [
    "Even Open Robotics provides pre-built ROS 2 packages for multiple platforms, very often target software and hardware differ from the default one and a cross-compilation becomes a mandatory step:\n",
    "* A different from Linux operating system e.g. VxWorks, QNX, eSol, etc. is deployed on the target hardware\n",
    "* Target hardware (e.g. ARM aarch64) is different from the development host (e.g. Intel x86_64).\n",
    "* Tuning target software for the footprint and performance (e.g. setting -mcpu=cortex-a72 -mfpu=neon-fp-armv8 when building for Raspberry Pi4).\n",
    "* Separating ROS2 host tools (e.g. RViz) from the ROS2 target binaries.\n",
    "\n",
    "This session will explain in detail of why cross-compilation is needed, and how to cross-compile ROS2 distro by taken VxWorks RTOS as an example. Step by step instructions will be given of how to setup a cross-compile development environment, to build and to deploy ROS2 binaries on the target. As a target QEMU Intel will be used on the Desktop PC."
   ]
  },
  {
   "cell_type": "markdown",
   "metadata": {},
   "source": [
    "## WHO AM I"
   ]
  },
  {
   "cell_type": "markdown",
   "metadata": {},
   "source": [
    "<img align=\"left\" src=\"images/headshot.jpg\" width=\"200\">\n",
    "<center><strong>Andrei Kholodnyi</strong> | <strong>Principal Technologist</strong> | <strong>Technology Office</strong> | <strong>Wind River Systems</strong></center>\n",
    "\n",
    "### <center>Focus </center>\n",
    "\n",
    "<center> *  ROS2 Mobile Robotics, Dependability</center>\n",
    "<center> *  Industrial, TSN, intelligent edge</center>\n",
    "<center> *  ROS2 Open Source Community (real-time WG co-chair)</center>\n",
    "<center> *  Products, Solutions; Partnerships & University Programs</center>"
   ]
  },
  {
   "cell_type": "markdown",
   "metadata": {},
   "source": [
    "## Wind River software runs all these robots"
   ]
  },
  {
   "cell_type": "markdown",
   "metadata": {},
   "source": [
    "![Wind River Software runs inside these robots](images/robots.jpg)"
   ]
  },
  {
   "cell_type": "markdown",
   "metadata": {},
   "source": [
    "## What is VxWorks RTOS"
   ]
  },
  {
   "cell_type": "markdown",
   "metadata": {},
   "source": [
    "<img align=\"left\" src=\"images/vxworks.jpg\" width=\"400\">\n",
    "\n",
    "<font size=\"5\"> *  32/64 bits on ARM, Intel, MIPS, PowerPC, RISC-V</font>\n",
    "\n",
    "<font size=\"5\"> *  Proprietary real-time OS, POSIX PSE52</font>\n",
    "\n",
    "<font size=\"5\"> *  Kernel/user space separation, user space optional</font>\n",
    "\n",
    "<font size=\"5\"> *  C/C++11/14, possible to develop kernel C++ modules and user apps</font>\n",
    "    \n",
    "<font size=\"5\"> *  Safety certifiable: DO-178, ISO 26262, IEC 61508</font>\n",
    "\n",
    "<font size=\"5\"> *  Toolchain LLVM 8, Dinkumware C/C++ libs</font>\n",
    "\n",
    "<font size=\"5\"> *  Proprietary build system</font>\n",
    "\n",
    "<font size=\"5\"> *  Kernel shell</font>\n",
    "\n",
    "<font size=\"5\"> *  Eclipse-based IDE, Windows/Linux hosts</font>"
   ]
  },
  {
   "cell_type": "markdown",
   "metadata": {},
   "source": [
    "## What is a native compilation?\n",
    "\n",
    "Let us look at this example of the compilation on the Intel PC running Linux Ubuntu. All artifacts (binaries, libs..) produced during a ROS2 build are supposed to run on the same platform.\n",
    "The same can be done on RaspberryPi4 as well even it is a different hardware architecture."
   ]
  },
  {
   "cell_type": "markdown",
   "metadata": {},
   "source": [
    "![](images/native-compilation.jpg)"
   ]
  },
  {
   "cell_type": "markdown",
   "metadata": {},
   "source": [
    "## What is a cross compilation?\n",
    "\n",
    "What happens if we would substitute a desktop PC with an embedded target even with the same HW architecture (Intel x86_64) and would run a different OS, e.g. VxWorks RTOS.\n",
    "As we can see many emebedded RTOS does not have a native development environment. They use host/target paradigm where a development happens on the host computer running Desktop OS e.g. Windows or Linux. And the development artifacts are deployed to the target.\n",
    "\n",
    "Cross-compilation is a process of creating executable artifacts for a platform other than the one on which the cross-compilation toolchain is running. A cross-compilation toolchain is a set of chained tools used for this process "
   ]
  },
  {
   "cell_type": "markdown",
   "metadata": {},
   "source": [
    "![](images/cross-compilation.jpg)"
   ]
  },
  {
   "attachments": {},
   "cell_type": "markdown",
   "metadata": {},
   "source": [
    "## A native compilation – Hello, OS and HW Arch\n",
    "\n",
    "Let us try to run this Hello, World code sample"
   ]
  },
  {
   "cell_type": "markdown",
   "metadata": {},
   "source": [
    "```bash\n",
    "$ cd examples\n",
    "$ cat hello.c\n",
    "```"
   ]
  },
  {
   "cell_type": "markdown",
   "metadata": {},
   "source": [
    "```c\n",
    "#include <stdio.h>\n",
    "#include <sys/utsname.h>\n",
    "\n",
    "\n",
    "int main() {\n",
    "    struct utsname data;\n",
    "    \n",
    "    /* get name and information about current kernel */\n",
    "    /* sysname[]; - Operating system name (e.g., \"Linux\") */\n",
    "    /* machine[]; - Hardware identifier */\n",
    "    uname(&data);\n",
    "    printf(\"Hello, %s %s\\n\", data.sysname, data.machine);\n",
    "    return 0;\n",
    "}\n",
    "```"
   ]
  },
  {
   "cell_type": "markdown",
   "metadata": {},
   "source": [
    "```bash\n",
    "$ which gcc\n",
    "/usr/bin/gcc\n",
    "\n",
    "$ gcc -print-multiarch\n",
    "x86_64-linux-gnu\n",
    "```"
   ]
  },
  {
   "cell_type": "markdown",
   "metadata": {},
   "source": [
    "```bash\n",
    "$ gcc -Wall hello.c -o hello -static\n",
    "$ ./hello\n",
    "Hello, Linux x86_64\n",
    "\n",
    "$ file hello\n",
    "hello: ELF 64-bit LSB executable, x86-64, version 1 (GNU/Linux), statically linked, BuildID[sha1]=e46d14d01d5ce7f9de399925757dc31afa564e58, for GNU/Linux 3.2.0, not stripped\n",
    "```"
   ]
  },
  {
   "cell_type": "markdown",
   "metadata": {},
   "source": [
    "## A cross compilation – Hello, OS and HW Arch\n",
    "\n",
    "Let us do the same but with the cross-toolchain"
   ]
  },
  {
   "cell_type": "markdown",
   "metadata": {},
   "source": [
    "```bash\n",
    "$ source /opt/wrsdk-vxworks7-qemu/toolkit/wind_sdk_env.linux\n",
    "\n",
    "$ env | grep WIND\n",
    "WIND_SDK_COMPILER_PATH=/opt/wrsdk-vxworks7-qemu/toolkit/compilers/llvm-9.0.1.1/LINUX64/bin\n",
    "WIND_SDK_HOST_TOOLS=/opt/wrsdk-vxworks7-qemu/toolkit/host_tools\n",
    "WIND_SDK_LLVM_HOST_TYPE=LINUX64\n",
    "WIND_SDK_LLVM_COMPILER=llvm-9.0.1.1\n",
    "WIND_SDK_HOME=/opt/wrsdk-vxworks7-qemu\n",
    "WIND_SDK_LLVM_PATH=/opt/wrsdk-vxworks7-qemu/toolkit/compilers/llvm-9.0.1.1\n",
    "WIND_CC_SYSROOT=/opt/wrsdk-vxworks7-qemu/toolkit/include\n",
    "WIND_SDK_VX7_HOST_TYPE=x86_64-linux\n",
    "```"
   ]
  },
  {
   "cell_type": "markdown",
   "metadata": {},
   "source": [
    "```bash\n",
    "$ which $CC\n",
    "/opt/wrsdk-vxworks7-qemu/toolkit/host_tools/x86_64-linux/bin/wr-cc\n",
    "\n",
    "$ $CC -print-target-triple -c dummy.c\n",
    "x86_64\n",
    "```"
   ]
  },
  {
   "cell_type": "markdown",
   "metadata": {},
   "source": [
    "```bash\n",
    "$ cd examples\n",
    "$ $CC -Wall hello.c -o hello -static\n",
    "$ ./hello\n",
    "Segmentation fault (core dumped)\n",
    "\n",
    "$ file hello\n",
    "hello: ELF 64-bit LSB executable, x86-64, version 1 (SYSV), statically linked, with debug_info, not stripped\n",
    "```"
   ]
  },
  {
   "cell_type": "markdown",
   "metadata": {},
   "source": [
    "Why it does not print VxWorks as an OS?\n",
    "\n",
    "There are just few OSes defined by ELF format, see e.g. https://refspecs.linuxfoundation.org/elf/gabi4+/ch4.eheader.html\n",
    "\n",
    "```bash\n",
    "Name\t          Value\tMeaning\n",
    "ELFOSABI_NONE        0\tNo extensions or unspecified\n",
    "ELFOSABI_HPUX        1\tHewlett-Packard HP-UX\n",
    "ELFOSABI_NETBSD      2\tNetBSD\n",
    "ELFOSABI_LINUX       3\tLinux\n",
    "ELFOSABI_SOLARIS     6\tSun Solaris\n",
    "ELFOSABI_AIX         7\tAIX\n",
    "ELFOSABI_IRIX        8\tIRIX\n",
    "ELFOSABI_FREEBSD     9\tFreeBSD\n",
    "ELFOSABI_TRU64      10\tCompaq TRU64 UNIX\n",
    "ELFOSABI_MODESTO    11\tNovell Modesto\n",
    "ELFOSABI_OPENBSD    12\tOpen BSD\n",
    "ELFOSABI_OPENVMS    13\tOpen VMS\n",
    "ELFOSABI_NSK        14\tHewlett-Packard Non-Stop Kernel\n",
    " \t            64-255\tArchitecture-specific value range\n",
    "```"
   ]
  },
  {
   "cell_type": "markdown",
   "metadata": {},
   "source": [
    "How can I figure out it a VxWorks binary? \n",
    "\n",
    "```bash\n",
    "$ wr-nm hello | grep wrs\n",
    "0000000000233288 r __wrs_eh_frame_end\n",
    "000000000022c370 r __wrs_eh_frame_hdr_end\n",
    "```"
   ]
  },
  {
   "cell_type": "markdown",
   "metadata": {},
   "source": [
    "```bash\n",
    "$ qemu-system-x86_64 -m 512M  -kernel $WIND_SDK_TOOLKIT/../bsps/itl_generic_2_0_2_1/boot/vxWorks -net nic -display none -serial stdio -monitor none -append \"bootline:fs(0,0)host:vxWorks h=192.168.200.254 e=192.168.200.1 u=target pw=boot o=gei0\" -usb -device usb-ehci,id=ehci  -device usb-storage,drive=fat32 -drive file=fat:ro:./,id=fat32,format=raw,if=none\n",
    "\n",
    "Instantiating /ram0 as rawFs,  device = 0x1\n",
    "Target Name: vxTarget\n",
    "Instantiating /tmp as rawFs,  device = 0x10001\n",
    "\n",
    "\n",
    "              VxWorks 7 SMP 64-bit\n",
    "\n",
    "Copyright 1984-2020 Wind River Systems, Inc.\n",
    "\n",
    "     Core Kernel version: 3.1.2.1\n",
    "              Build date: Apr 21 2020 09:27:38\n",
    "                   Board: x86 Processor (ACPI_BOOT_OP) SMP/SMT\n",
    "               CPU Count: 1\n",
    "          OS Memory Size: ~446MB\n",
    "        ED&R Policy Mode: Deployed\n",
    "     Debug Agent: Started (always)\n",
    "\n",
    "Instantiating /ram as rawFs,  device = 0x20001\n",
    "Formatting /ram for DOSFS\n",
    "Instantiating /ram as rawFs, device = 0x20001\n",
    "Formatting...Retrieved old volume params with %38 confidence:\n",
    "Volume Parameters: FAT type: FAT32, sectors per cluster 0\n",
    "  0 FAT copies, 0 clusters, 0 sectors per FAT\n",
    "  Sectors reserved 0, hidden 0, FAT sectors 0\n",
    "  Root dir entries 0, sysId (null)  , serial number 100000\n",
    "  Label:\"           \" ...\n",
    "Disk with 64 sectors of 512 bytes will be formatted with:\n",
    "Volume Parameters: FAT type: FAT12, sectors per cluster 1\n",
    "  2 FAT copies, 54 clusters, 1 sectors per FAT\n",
    "  Sectors reserved 1, hidden 0, FAT sectors 2\n",
    "  Root dir entries 112, sysId VXDOS12 , serial number 100000\n",
    "  Label:\"           \" ...\n",
    "OK.\n",
    "\n",
    " Adding 14058 symbols for standalone.\n",
    "\n",
    "->\n",
    "```"
   ]
  },
  {
   "cell_type": "markdown",
   "metadata": {},
   "source": [
    "```bash\n",
    "-> cmd\n",
    "[vxWorks *]#\n",
    "```"
   ]
  },
  {
   "cell_type": "markdown",
   "metadata": {},
   "source": [
    "```bash\n",
    "[vxWorks *]# devs\n",
    "drv refs name\n",
    "  1 [ 3] /\n",
    "  2 [ 3] /bd0:1  ==>  /bd0a\n",
    "  5 [ 3] /bd0a\n",
    "  2 [ 3] /bin  ==>  /romfs/sysroot/bin\n",
    "  2 [ 3] /boot  ==>  /romfs/sysroot/boot\n",
    "  2 [ 3] /dev  ==>  /\n",
    "  2 [ 3] /etc  ==>  /romfs/sysroot/etc\n",
    " 10 [ 3] /fifos\n",
    " 11 [ 3] /input/event\n",
    "  2 [ 3] /lib  ==>  /romfs/sysroot/lib\n",
    "  0 [ 3] /null\n",
    "  5 [ 3] /ram\n",
    "  6 [ 3] /ram0\n",
    " 13 [ 3] /random\n",
    "  9 [ 3] /romfs\n",
    "  6 [ 3] /tmp\n",
    "  3 [ 3] /ttyS0\n",
    "  2 [ 3] /tyCo/0  ==>  /ttyS0\n",
    " 13 [ 3] /urandom\n",
    "  2 [ 3] /usr  ==>  /romfs/sysroot/usr\n",
    " 12 [ 3] /zero\n",
    " 15 [ 3] host:\n",
    "\n",
    "[vxWorks *]# cd /bd0a\n",
    "[vxWorks *]# ls\n",
    "hello.c\n",
    "hello\n",
    "```"
   ]
  },
  {
   "cell_type": "markdown",
   "metadata": {},
   "source": [
    "```bash\n",
    "[vxWorks *]# cat hello.c\n",
    "#include <stdio.h>\n",
    "#include <sys/utsname.h>\n",
    "\n",
    "int main() {\n",
    "        struct utsname data;\n",
    "\n",
    "        /* get name and information about current kernel */\n",
    "        /* sysname[]; - Operating system name (e.g., \"Linux\") */\n",
    "        /* machine[]; - Hardware identifier */\n",
    "\n",
    "        uname(&data);\n",
    "        printf(\"Hello, %s %s\\n\", data.sysname, data.machine);\n",
    "        return 0;\n",
    "}\n",
    "```"
   ]
  },
  {
   "cell_type": "markdown",
   "metadata": {},
   "source": [
    "```bash\n",
    "[vxWorks *]# ./hello\n",
    "Launching process './hello' ...\n",
    "Process './hello' (process Id = 0xffff8000005bde80) launched.\n",
    "Hello, VxWorks 7 x86 Processor (ACPI_BOOT_OP) SMP/SMT\n",
    "```"
   ]
  },
  {
   "cell_type": "markdown",
   "metadata": {},
   "source": [
    "## ROS2 distro structure"
   ]
  },
  {
   "cell_type": "markdown",
   "metadata": {},
   "source": [
    "## Setup ROS2 for the cross-compilation"
   ]
  },
  {
   "cell_type": "markdown",
   "metadata": {},
   "source": [
    "## toolchain.cmake and VxWorks.cmake"
   ]
  },
  {
   "cell_type": "markdown",
   "metadata": {},
   "source": [
    "## cross-compile ROS2 "
   ]
  },
  {
   "cell_type": "markdown",
   "metadata": {},
   "source": [
    "## Run ROS2 example using QEMU"
   ]
  },
  {
   "cell_type": "markdown",
   "metadata": {},
   "source": [
    "## Conclusion"
   ]
  }
 ],
 "metadata": {
  "celltoolbar": "Raw Cell Format",
  "kernelspec": {
   "display_name": "Python 3",
   "language": "python",
   "name": "python3"
  },
  "language_info": {
   "codemirror_mode": {
    "name": "ipython",
    "version": 3
   },
   "file_extension": ".py",
   "mimetype": "text/x-python",
   "name": "python",
   "nbconvert_exporter": "python",
   "pygments_lexer": "ipython3",
   "version": "3.8.3"
  }
 },
 "nbformat": 4,
 "nbformat_minor": 1
}
