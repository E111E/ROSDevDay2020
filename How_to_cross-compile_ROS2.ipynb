{
 "cells": [
  {
   "cell_type": "markdown",
   "metadata": {},
   "source": [
    "![](images/logos/rosdevday.jpg)"
   ]
  },
  {
   "cell_type": "markdown",
   "metadata": {},
   "source": [
    "# How to cross-compile ROS2 distro by taken VxWorks RTOS as an example"
   ]
  },
  {
   "cell_type": "markdown",
   "metadata": {},
   "source": [
    "Even Open Robotics provides pre-built ROS 2 packages for multiple platforms, very often target software and hardware differ from the default one and a cross-compilation becomes a mandatory step:\n",
    "* A different from Linux operating system e.g. VxWorks, QNX, eSol, etc. is deployed on the target hardware\n",
    "* Target hardware (e.g. ARM aarch64) is different from the development host (e.g. Intel x86_64).\n",
    "* Tuning target software for the footprint and performance (e.g. setting -mcpu=cortex-a72 -mfpu=neon-fp-armv8 when building for Raspberry Pi4).\n",
    "* Separating ROS2 host tools (e.g. RViz) from the ROS2 target binaries.\n",
    "\n",
    "This session will explain in detail of why cross-compilation is needed, and how to cross-compile ROS2 distro by taken VxWorks RTOS as an example. Step by step instructions will be given of how to setup a cross-compile development environment, to build and to deploy ROS2 binaries on the target. As a target QEMU Intel will be used on the Desktop PC."
   ]
  },
  {
   "cell_type": "markdown",
   "metadata": {},
   "source": [
    "## WHO AM I"
   ]
  },
  {
   "cell_type": "markdown",
   "metadata": {},
   "source": [
    "<img align=\"left\" src=\"images/headshot.jpg\" width=\"200\">\n",
    "<center><strong>Andrei Kholodnyi</strong> | <strong>Principal Technologist</strong> | <strong>Technology Office</strong> | <strong>Wind River Systems</strong></center>\n",
    "\n",
    "### <center>Focus </center>\n",
    "\n",
    "<center> *  ROS2 Mobile Robotics, Dependability</center>\n",
    "<center> *  Industrial, TSN, intelligent edge</center>\n",
    "<center> *  ROS2 Open Source Community (real-time WG co-chair)</center>\n",
    "<center> *  Products, Solutions; Partnerships & University Programs</center>"
   ]
  },
  {
   "attachments": {},
   "cell_type": "markdown",
   "metadata": {},
   "source": [
    "## Wind River software runs all these robots"
   ]
  },
  {
   "cell_type": "markdown",
   "metadata": {},
   "source": [
    "![Wind River Software runs inside these robots](images/robots.jpg)"
   ]
  },
  {
   "cell_type": "markdown",
   "metadata": {},
   "source": [
    "## What is VxWorks RTOS"
   ]
  },
  {
   "attachments": {},
   "cell_type": "markdown",
   "metadata": {},
   "source": [
    "<img align=\"left\" src=\"images/vxworks.jpg\" width=\"400\">\n",
    "\n",
    "<font size=\"5\"> *  32/64 bits on ARM, Intel, MIPS, PowerPC, RISC-V</font>\n",
    "\n",
    "<font size=\"5\"> *  Proprietary real-time OS, POSIX PSE52</font>\n",
    "\n",
    "<font size=\"5\"> *  Kernel/user space separation, user space optional</font>\n",
    "\n",
    "<font size=\"5\"> *  C/C++11/14, possible to develop kernel C++ modules and user apps</font>\n",
    "    \n",
    "<font size=\"5\"> *  Safety certifiable: DO-178, ISO 26262, IEC 61508</font>\n",
    "\n",
    "<font size=\"5\"> *  Toolchain LLVM 8, Dinkumware C/C++ libs</font>\n",
    "\n",
    "<font size=\"5\"> *  Proprietary build system</font>\n",
    "\n",
    "<font size=\"5\"> *  Kernel shell</font>\n",
    "\n",
    "<font size=\"5\"> *  Eclipse-based IDE, Windows/Linux hosts</font>"
   ]
  },
  {
   "attachments": {},
   "cell_type": "markdown",
   "metadata": {},
   "source": [
    "## What is a native compilation?\n",
    "\n",
    "Let us look at this example of the compilation on the Intel PC running Linux Ubuntu. All artifacts (binaries, libs..) produced during a ROS2 build are supposed to run on the same platform.\n",
    "The same can be done on RaspberryPi4 as well even it is a different hardware architecture."
   ]
  },
  {
   "cell_type": "markdown",
   "metadata": {},
   "source": [
    "![](images/native-compilation.jpg)"
   ]
  },
  {
   "attachments": {},
   "cell_type": "markdown",
   "metadata": {},
   "source": [
    "## What is a cross compilation?\n",
    "\n",
    "What happens if we would substitute a desktop PC with an embedded target even with the same HW architecture (Intel x86_64) and would run a different OS, e.g. VxWorks RTOS.\n",
    "As we can see many emebedded RTOS does not have a native development environment. They use host/target paradigm where a development happens on the host computer running Desktop OS e.g. Windows or Linux. And the development artifacts are deployed to the target.\n",
    "\n",
    "Cross-compilation is a process of creating executable artifacts for a platform other than the one on which the cross-compilation toolchain is running. A cross-compilation toolchain is a set of chained tools used for this process "
   ]
  },
  {
   "cell_type": "markdown",
   "metadata": {},
   "source": [
    "![](images/cross-compilation.jpg)"
   ]
  },
  {
   "cell_type": "markdown",
   "metadata": {},
   "source": [
    "Let us try to run this Hello, World code sample"
   ]
  },
  {
   "cell_type": "code",
   "execution_count": 22,
   "metadata": {},
   "outputs": [
    {
     "name": "stdout",
     "output_type": "stream",
     "text": [
      "[WinError 2] Не удается найти указанный файл: '/home'\n",
      "C:\\Projects\\ROSDevDay2020\n"
     ]
    }
   ],
   "source": [
    "cd /home"
   ]
  },
  {
   "attachments": {},
   "cell_type": "markdown",
   "metadata": {},
   "source": [
    "```c\n",
    "#include <stdio.h>\n",
    "#include <sys/utsname.h>\n",
    "\n",
    "\n",
    "int main() {\n",
    "    struct utsname data;\n",
    "    \n",
    "    uname(&data);\n",
    "    printf(\"Hello, %s %s\\n\", data.sysname, data.machine);\n",
    "    return 0;\n",
    "}\n",
    "```\n",
    "\n",
    "$ gcc -Wall hello.c -o hello -static && ./hello\n",
    "Hello, Linux x86_64\n",
    "```"
   ]
  },
  {
   "cell_type": "code",
   "execution_count": null,
   "metadata": {},
   "outputs": [],
   "source": [
    "```bash\n",
    "$ gcc -Wall hello.c -o hello -static && ./hello\n",
    "Hello, Linux x86_64"
   ]
  },
  {
   "cell_type": "code",
   "execution_count": null,
   "metadata": {},
   "outputs": [],
   "source": [
    "source /opt/wrssdk-\n",
    "env | cat WIND"
   ]
  }
 ],
 "metadata": {
  "celltoolbar": "Raw Cell Format",
  "kernelspec": {
   "display_name": "Python 3",
   "language": "python",
   "name": "python3"
  },
  "language_info": {
   "codemirror_mode": {
    "name": "ipython",
    "version": 3
   },
   "file_extension": ".py",
   "mimetype": "text/x-python",
   "name": "python",
   "nbconvert_exporter": "python",
   "pygments_lexer": "ipython3",
   "version": "3.8.3"
  }
 },
 "nbformat": 4,
 "nbformat_minor": 1
}
