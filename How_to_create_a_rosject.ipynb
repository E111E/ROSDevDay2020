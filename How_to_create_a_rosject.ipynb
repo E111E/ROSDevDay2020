{
 "cells": [
  {
   "cell_type": "markdown",
   "metadata": {},
   "source": [
    "[In this notebook, you will learn how to create a ROSject including ROS code, Gazebo simulation, documentation, datasets. Every text that is between brakets [] indicates steps that you must do to build your rosject. You can remove that text when finished]"
   ]
  },
  {
   "cell_type": "markdown",
   "metadata": {},
   "source": [
    "### [IMPORTANT: this template is running an Ubuntu 16.04 + ROS Kinetic setup. If you need to use a different configuration, follow the next steps]\n",
    "\n",
    "1. Go back to the main page that lists your rosjects\n",
    "2. Click on the image of this rosject\n",
    "3. On the screen that appears, select the Edit option\n",
    "4. Go to the option called *ROS CONFIGURATION* and select there a different ROS distribution. At current we support:\n",
    "    * ROS Kinetic\n",
    "    * ROS Melodic\n",
    "    * ROS2 Dashing\n",
    "    * ROS2 Eloquent\n",
    "5. Then press *Update*\n",
    "6. Now open again the rosject. It will open this rosject template with the new configuration"
   ]
  },
  {
   "cell_type": "markdown",
   "metadata": {},
   "source": [
    "# [Substitute the image below by the logo of your company/university] #"
   ]
  },
  {
   "cell_type": "markdown",
   "metadata": {},
   "source": [
    "![](images/logos/rosdevday.jpg)"
   ]
  },
  {
   "cell_type": "markdown",
   "metadata": {},
   "source": [
    "# [WRITE HERE THE TITLE OF YOUR TALK] #"
   ]
  },
  {
   "cell_type": "markdown",
   "metadata": {},
   "source": [
    "[Write here briefly the description of your talk. Indicate what the attendants are going to learn from your talk in bullet points]"
   ]
  },
  {
   "cell_type": "markdown",
   "metadata": {},
   "source": [
    "[Indicate here the robot or hardware you are going to create the programs for]"
   ]
  },
  {
   "cell_type": "markdown",
   "metadata": {},
   "source": [
    "[Substitute the image below by the image of your robot or hardware]\n",
    "\n",
    "![Image obtained from IF World Design Guide](images/franka.jpg)"
   ]
  },
  {
   "cell_type": "markdown",
   "metadata": {},
   "source": [
    "## WHO AM I"
   ]
  },
  {
   "cell_type": "markdown",
   "metadata": {},
   "source": [
    "[A brief introduction of yourself and your affiliation. Basically indicate why you can talk about this subject. You can add a picture of yourself if you want]"
   ]
  },
  {
   "cell_type": "markdown",
   "metadata": {},
   "source": [
    "## LET'S LAUNCH THE SIMULATION"
   ]
  },
  {
   "cell_type": "markdown",
   "metadata": {},
   "source": [
    "[Select the simulation you will use during the presentation. You can either use one of the provided by the Simulations menu above, or upload/clone your own. Your simulation must be placed on the simulation_ws/src directory. \n",
    "To upload, open the IDE on the Tools menu, and right click on the directory. then select upload\n",
    "To clone, open a terminal on the Tools menu, navigate to the directory and do your git clone]"
   ]
  },
  {
   "cell_type": "markdown",
   "metadata": {},
   "source": [
    "[Provide here instructions for the audience about how to launch the simulation. Delete this section if your presentation does not use a simulation]"
   ]
  },
  {
   "cell_type": "markdown",
   "metadata": {},
   "source": [
    "For ex. instructions about how to launch the Franka Emika simulation (whose code you can find inside the *simulation_ws/src* directory of this rosject):"
   ]
  },
  {
   "cell_type": "markdown",
   "metadata": {},
   "source": [
    "1. Go to the top menu and select Simulations\n",
    "2. On the screen that appears, press the blue button that says *Choose launch file*\n",
    "3. On the new box that appears, click on the drop down menu and select the launch file *simulation.launch*\n",
    "4. After a few seconds, you will have a new window with a Gazebo simulation of the Panda robot"
   ]
  },
  {
   "cell_type": "markdown",
   "metadata": {},
   "source": [
    "[substitute the image below by the expected window the audience will get after launching the simulation]"
   ]
  },
  {
   "cell_type": "markdown",
   "metadata": {},
   "source": [
    "![](images/rosject_images/panda-in-gazebo.png)"
   ]
  },
  {
   "cell_type": "markdown",
   "metadata": {},
   "source": [
    "## [Write your main subject title here]"
   ]
  },
  {
   "cell_type": "markdown",
   "metadata": {},
   "source": [
    "[Write here the explanation of your subject. The shorter the better. You can use additional images or videos to make clearer your explanation]"
   ]
  },
  {
   "cell_type": "markdown",
   "metadata": {},
   "source": [
    "## [Write the title of your practical demo]"
   ]
  },
  {
   "cell_type": "markdown",
   "metadata": {},
   "source": [
    "[Describe here step by step how to do and replicate your experiment/program/code result. The steps must be clear and reproducible by the audience. The clearer they are, the easier it will be for you to follow along the notes during your presentation]"
   ]
  },
  {
   "cell_type": "markdown",
   "metadata": {},
   "source": [
    "[Include paragraphs with code (any language) or command lines if necessary, like the following three]"
   ]
  },
  {
   "cell_type": "markdown",
   "metadata": {},
   "source": [
    "[ex. of command line]"
   ]
  },
  {
   "cell_type": "code",
   "execution_count": null,
   "metadata": {},
   "outputs": [],
   "source": [
    "$ cd /home/user/simulation_ws/src"
   ]
  },
  {
   "cell_type": "markdown",
   "metadata": {},
   "source": [
    "[ex. of launch file]"
   ]
  },
  {
   "cell_type": "code",
   "execution_count": null,
   "metadata": {},
   "outputs": [],
   "source": [
    "<?xml version=\"1.0\"?>\n",
    "<launch>\n",
    "    <!-- maps inside the folder summit_xl_navigation/maps -->\n",
    "    <arg name=\"map_file\" default=\"map1/map1.yaml\"/>\n",
    "    <arg name=\"prefix\" default=\"summit_xl_\"/>\n",
    "    <arg name=\"frame_id\" default=\"$(arg prefix)map\"/>\n",
    "\n",
    "    <!-- Run the map server -->\n",
    "    <node name=\"map_server\" pkg=\"map_server\" type=\"map_server\" args=\"$(find summit_xl_localization)/maps/$(arg map_file)\">\n",
    "        <param name=\"frame_id\" value=\"$(arg frame_id)\"/>\n",
    "    </node>\n",
    "\n",
    "</launch>"
   ]
  },
  {
   "cell_type": "markdown",
   "metadata": {},
   "source": [
    "[ex. of C++ code]"
   ]
  },
  {
   "cell_type": "code",
   "execution_count": null,
   "metadata": {},
   "outputs": [],
   "source": [
    "if ( !inliers->indices.empty() )\n",
    "{\n",
    "    //Extract inliers\n",
    "    pcl::ExtractIndices<PointT> extract;\n",
    "    extract.setInputCloud(inputCloud);\n",
    "    extract.setIndices(inliers);\n",
    "    extract.setNegative(false);\n",
    "    extract.filter(*cylinderCloud);\n",
    "    return true;\n",
    "}"
   ]
  },
  {
   "cell_type": "markdown",
   "metadata": {},
   "source": [
    "[Include images of the expected results to help audience understand your point, like the following image]"
   ]
  },
  {
   "cell_type": "markdown",
   "metadata": {},
   "source": [
    "![](images/rosject_images/sim7.png)"
   ]
  },
  {
   "cell_type": "markdown",
   "metadata": {},
   "source": [
    "[If you need extra code already available to the audience (for example, in case you want to use an arm robot with MoveIt and you need the MoveIt configuration already done) you can upload the code and ROS packages to the catkin_ws/src directory using the IDE->Upload option]"
   ]
  },
  {
   "cell_type": "markdown",
   "metadata": {},
   "source": [
    "[If you need to provide a dataset, follow instructions below about how to create/upload a dataset and provide it to audience]"
   ]
  },
  {
   "cell_type": "markdown",
   "metadata": {},
   "source": [
    "## [Concluding remarks]"
   ]
  },
  {
   "cell_type": "markdown",
   "metadata": {},
   "source": [
    "\n",
    "[Write here your conclusions]"
   ]
  },
  {
   "cell_type": "markdown",
   "metadata": {},
   "source": [
    "# Examples of notebooks from previous speakers"
   ]
  },
  {
   "cell_type": "markdown",
   "metadata": {},
   "source": [
    "* [ROSDevcon2019 TIAGo PCL table segmentation, by Luca Marchionni from Pal Robotics](notebook_examples/tiago/Course_TiagoInstructionManual_Unit7.ipynb)\n",
    "* [ROSDevCon2018 ROS Navigation Stack, by Roman Navarro from Robotnik](notebook_examples/robotnik/robotnik_presentation.ipynb)\n",
    "* [ROSDevCon2019 Unix Domain Socket Communication in ROS, by Fujita Tomoya from Sony](notebook_examples/sony/1-Overview.ipynb)"
   ]
  },
  {
   "cell_type": "markdown",
   "metadata": {},
   "source": [
    "# Extra ROSject Documentation\n",
    "\n",
    "[You can delete all the information in this section if you don't need it]\n",
    "\n",
    "## How to add a dataset"
   ]
  },
  {
   "cell_type": "markdown",
   "metadata": {},
   "source": [
    "Now let's see how to create a Dataset"
   ]
  },
  {
   "cell_type": "markdown",
   "metadata": {},
   "source": [
    "go to the **Datasets** menu at the top of the window and select **create**"
   ]
  },
  {
   "cell_type": "markdown",
   "metadata": {},
   "source": [
    "![](images/useful_images/dataset.png)"
   ]
  },
  {
   "cell_type": "markdown",
   "metadata": {},
   "source": [
    "Fill all the data in order to create your dataset, the name of the dataset, the folder that will contain this dataset, some description , and select if you want that your dataset will be public or not"
   ]
  },
  {
   "cell_type": "markdown",
   "metadata": {},
   "source": [
    "![](images/useful_images/dataset2.png)"
   ]
  },
  {
   "cell_type": "markdown",
   "metadata": {},
   "source": [
    "Once you have already created, you will see that your new dataset is ready ."
   ]
  },
  {
   "cell_type": "markdown",
   "metadata": {},
   "source": [
    "![](images/useful_images/dataset3.png)"
   ]
  },
  {
   "cell_type": "markdown",
   "metadata": {},
   "source": [
    "If you go to the IDE, you will see your new dataset in the **datasets_ws** ready to store all your data"
   ]
  },
  {
   "cell_type": "markdown",
   "metadata": {},
   "source": [
    "![](images/useful_images/dataset4.png)"
   ]
  },
  {
   "cell_type": "markdown",
   "metadata": {},
   "source": [
    "Ok, now should be interesting to add some data to your new dataset, we will use **rosbag** to do it, so open a new Shell and navigate to the dataset first."
   ]
  },
  {
   "cell_type": "code",
   "execution_count": null,
   "metadata": {},
   "outputs": [],
   "source": [
    "$ cd datasets_ws/joints_states_values/"
   ]
  },
  {
   "cell_type": "markdown",
   "metadata": {},
   "source": [
    "Then we will store all the information of a topic, in this case the topic called **/joint_states**, in order to do that run the following command in the Shell"
   ]
  },
  {
   "cell_type": "code",
   "execution_count": null,
   "metadata": {},
   "outputs": [],
   "source": [
    "$ rosbag record /joint_states"
   ]
  },
  {
   "cell_type": "markdown",
   "metadata": {},
   "source": [
    "This will record all the info of that topic, even if you move the robot again. "
   ]
  },
  {
   "cell_type": "markdown",
   "metadata": {},
   "source": [
    "you can move the robot again while the rosbag is recording"
   ]
  },
  {
   "cell_type": "markdown",
   "metadata": {},
   "source": [
    "Once you want to stop the recording just press Ctrl +c in the shell to stop it"
   ]
  },
  {
   "cell_type": "markdown",
   "metadata": {},
   "source": [
    "You can work with this information, for example let's see the info of the bag you have created, go to the Shell and run $ **rosbag info (the name of your bag)** you will have something similar to the next image."
   ]
  },
  {
   "cell_type": "markdown",
   "metadata": {},
   "source": [
    "![](images/rosject_images/rosbag.png)"
   ]
  },
  {
   "cell_type": "markdown",
   "metadata": {},
   "source": [
    "But, let's see how it looks like in the IDE"
   ]
  },
  {
   "cell_type": "markdown",
   "metadata": {},
   "source": [
    "![](images/rosject_images/rosbag2.png)"
   ]
  },
  {
   "cell_type": "markdown",
   "metadata": {},
   "source": [
    "as you can see there is a new file, with the date of creation, and if you open it you will see some information, but most of the information is in other format that cannot read, but you can work with it."
   ]
  },
  {
   "cell_type": "markdown",
   "metadata": {},
   "source": [
    "#### You can upload already created datasets to this rosject"
   ]
  },
  {
   "cell_type": "markdown",
   "metadata": {},
   "source": [
    "If you created **datasets** in other projects of yours, you can upload them, by using the IDE and uploading them to the directory datasets_ws/joint_states_values.\n",
    "\n",
    "If you want to have the dataset in a different directory, create first the dataset directory using the *Datasets* menu on the top."
   ]
  }
 ],
 "metadata": {
  "kernelspec": {
   "display_name": "Python 2",
   "language": "python",
   "name": "python2"
  },
  "language_info": {
   "codemirror_mode": {
    "name": "ipython",
    "version": 2
   },
   "file_extension": ".py",
   "mimetype": "text/x-python",
   "name": "python",
   "nbconvert_exporter": "python",
   "pygments_lexer": "ipython2",
   "version": "2.7.16"
  }
 },
 "nbformat": 4,
 "nbformat_minor": 1
}
